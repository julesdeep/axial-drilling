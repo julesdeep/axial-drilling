{
 "cells": [
  {
   "cell_type": "markdown",
   "metadata": {},
   "source": [
    "# Jason Tracks\n",
    "This notebook contains the code used to build the Jason track and image databases used in the exploratory maps."
   ]
  },
  {
   "cell_type": "code",
   "execution_count": null,
   "metadata": {},
   "outputs": [],
   "source": [
    "import numpy as np\n",
    "import pandas as pd\n",
    "import datetime\n",
    "import requests\n",
    "from tqdm import tqdm"
   ]
  },
  {
   "cell_type": "markdown",
   "metadata": {},
   "source": [
    "## Utility Functions"
   ]
  },
  {
   "cell_type": "code",
   "execution_count": null,
   "metadata": {},
   "outputs": [],
   "source": [
    "def exists(test_url):\n",
    "    r = requests.head(test_url)\n",
    "    return r.status_code == requests.codes.ok"
   ]
  },
  {
   "cell_type": "code",
   "execution_count": null,
   "metadata": {},
   "outputs": [],
   "source": [
    "def get_image_urls(line, image_dir):\n",
    "    cruise = line.split(',')[25]\n",
    "    \n",
    "    #print(cruise)\n",
    "    \n",
    "    if cruise == 'RR1715' or cruise == 'RR1714' or cruise == 'RR1713':\n",
    "        cruise_name = cruise.lower()\n",
    "        cam1_name = 'SciCam'\n",
    "        cam2_name = 'PilotCam'\n",
    "        cam3_name = 'BrowCam'\n",
    "        \n",
    "    if cruise == 'KM1813' or cruise == 'RR1712':\n",
    "        cruise_name = cruise.lower()[0:4] + '-' + cruise.lower()[4:6]\n",
    "        cam1_name = 'SubSea1'\n",
    "        cam2_name = 'SubSea2'\n",
    "        cam3_name = 'SubSea3'\n",
    "        \n",
    "    if cruise == 'RR1712' or cruise == 'SKQ201610S' or cruise == 'TN327' or cruise == 'TN300':\n",
    "        cruise_name = cruise.lower()\n",
    "        cam1_name = 'SubSea1'\n",
    "        cam2_name = 'SubSea2'\n",
    "        cam3_name = 'SubSea3'\n",
    "        \n",
    "    if cruise == 'RB-14-03':\n",
    "        cruise_name = cruise.lower()[0:2] + cruise.lower()[3:]\n",
    "        cam1_name = 'SubSea1'\n",
    "        cam2_name = 'SubSea2'\n",
    "        cam3_name = 'SubSea3'\n",
    "        \n",
    "    \n",
    "    timestamp = line.split(',')[2].split(' ')[0].replace('/','') \\\n",
    "        + '_' + line.split(',')[2].split(' ')[1].replace(':','') + '.jpg'\n",
    "\n",
    "    \n",
    "    #print('http://4dgeo.whoi.edu/DAQ/rr1715/Jason/Src1/Images0001/SciCam.20170821_182336.jpg')\n",
    "    #print('http://4dgeo.whoi.edu/DAQ/km18-13/Jason/Src1/Images0006/SubSea1.20180824_025905.jpg')\n",
    "    #print('http://4dgeo.whoi.edu/DAQ/rr1712/Jason/Src1/Images0003/SubSea1.20170717_212718.jpg')\n",
    "    \n",
    "    #print('http://4dgeo.whoi.edu/DAQ/rb14-03/Jason/Src1/Images0012/SubSea1.20140816_205125.jpg')\n",
    "        \n",
    "    #print('http://4dgeo.whoi.edu/DAQ/skq201610s/Jason/Src1/Images0009/SubSea1.20160716_025530.jpg')\n",
    "    \n",
    "    img1 = ('http://4dgeo.whoi.edu/DAQ/%s/Jason/Src1/Images%04.0f/%s.%s') % \\\n",
    "        (cruise_name, image_dir, cam1_name, timestamp)\n",
    "    \n",
    "    #print(img1)\n",
    "        \n",
    "    while not exists(img1):\n",
    "        image_dir = image_dir + 1\n",
    "        img1 = ('http://4dgeo.whoi.edu/DAQ/%s/Jason/Src1/Images%04.0f/%s.%s') % \\\n",
    "            (cruise_name, image_dir, cam1_name, timestamp)\n",
    "        if image_dir == 100:\n",
    "            raise ValueError\n",
    "        \n",
    "    img2 = ('http://4dgeo.whoi.edu/DAQ/%s/Jason/Src2/Images%04.0f/%s.%s') % \\\n",
    "        (cruise_name, image_dir, cam2_name, timestamp)\n",
    "            #if not exists(img2):\n",
    "            #    img2 = ''\n",
    "#                raise FileNotFoundError(img2)\n",
    "    img3 = ('http://4dgeo.whoi.edu/DAQ/%s/Jason/Src3/Images%04.0f/%s.%s') % \\\n",
    "        (cruise_name, image_dir, cam3_name, timestamp)\n",
    "            #if not exists(img3):\n",
    "            #    img3 = ''\n",
    "#                raise FileNotFoundError(img3)\n",
    "\n",
    "    return image_dir, img1, img2, img3"
   ]
  },
  {
   "cell_type": "code",
   "execution_count": null,
   "metadata": {},
   "outputs": [],
   "source": [
    "def read_jason(filename):\n",
    "    event_list = []\n",
    "    num_lines = sum(1 for line in open(filename, 'r', encoding='latin1'))\n",
    "    i = 0\n",
    "    image_dir = 1\n",
    "    with open(filename, 'r', encoding='latin1') as f:\n",
    "        for line in tqdm(f, total = num_lines):\n",
    "            if i > 0:\n",
    "                lowering = line.split(',')[0]\n",
    "                if not lowering:\n",
    "                    i = i+1\n",
    "                    continue\n",
    "                \n",
    "\n",
    "                lat = np.float64(line.split(',')[3])\n",
    "                lon = np.float64(line.split(',')[4])\n",
    "                \n",
    "                    \n",
    "                depth = np.float64(line.split(',')[11])\n",
    "\n",
    "                \n",
    "                if depth > 1000 and lat > 45.85 and lat < 46 and lon > -130.1 and lon < -129.9:\n",
    "                    total_depth = np.float64(line.split(',')[12])    \n",
    "                    cruise = line.split(',')[25]   \n",
    "                    comment = ','.join(line.split(',')[27:]).strip()\n",
    "                    timestamp = datetime.datetime.strptime(line.split(',')[2], '%Y/%m/%d %H:%M:%S')\n",
    "                    image_dir, img1, img2, img3 = get_image_urls(line, image_dir)\n",
    "                    event_list.append([cruise, lowering, i, timestamp, lat, lon,\n",
    "                        depth, total_depth, comment, img1, img2, img3])\n",
    "            i = i+1\n",
    "            \n",
    "            \n",
    "    df = pd.DataFrame(event_list, columns = ['cruise', 'lowering', 'event_number', 'timestamp',\n",
    "        'lat', 'lon', 'depth', 'total_depth', 'event', 'img1', 'img2', 'img3'])\n",
    "    return df"
   ]
  },
  {
   "cell_type": "markdown",
   "metadata": {},
   "source": [
    "## RR1714"
   ]
  },
  {
   "cell_type": "code",
   "execution_count": null,
   "metadata": {},
   "outputs": [],
   "source": [
    "data_dir = '/home/jovyan/github/ooicloud/axial-drilling/maps/data/jason/'\n",
    "filename = 'rr1714.txt'"
   ]
  },
  {
   "cell_type": "code",
   "execution_count": null,
   "metadata": {},
   "outputs": [],
   "source": [
    "rr1714_df = read_jason(data_dir + filename)"
   ]
  },
  {
   "cell_type": "code",
   "execution_count": null,
   "metadata": {},
   "outputs": [],
   "source": [
    "rr1714_df.head()"
   ]
  },
  {
   "cell_type": "code",
   "execution_count": null,
   "metadata": {},
   "outputs": [],
   "source": [
    "rr1714_df.to_json(data_dir + filename.split('.')[0] + '.json', orient=\"records\", lines=True)"
   ]
  },
  {
   "cell_type": "markdown",
   "metadata": {},
   "source": [
    "## RR1715"
   ]
  },
  {
   "cell_type": "code",
   "execution_count": null,
   "metadata": {},
   "outputs": [],
   "source": [
    "data_dir = '/home/jovyan/github/ooicloud/axial-drilling/maps/data/jason/'\n",
    "filename = 'rr1715.txt'"
   ]
  },
  {
   "cell_type": "code",
   "execution_count": null,
   "metadata": {},
   "outputs": [],
   "source": [
    "rr1715_df = read_jason(data_dir + filename)"
   ]
  },
  {
   "cell_type": "code",
   "execution_count": null,
   "metadata": {},
   "outputs": [],
   "source": [
    "len(rr1715_df)"
   ]
  },
  {
   "cell_type": "code",
   "execution_count": null,
   "metadata": {},
   "outputs": [],
   "source": [
    "rr1715_df.to_json(data_dir + filename.split('.')[0] + '.json', orient=\"records\", lines=True)"
   ]
  },
  {
   "cell_type": "markdown",
   "metadata": {},
   "source": [
    "## KM1813"
   ]
  },
  {
   "cell_type": "code",
   "execution_count": null,
   "metadata": {},
   "outputs": [],
   "source": [
    "data_dir = '/home/jovyan/github/ooicloud/axial-drilling/maps/data/jason/'\n",
    "filename = 'km1813.txt'"
   ]
  },
  {
   "cell_type": "code",
   "execution_count": null,
   "metadata": {},
   "outputs": [],
   "source": [
    "km1813_df = read_jason(data_dir + filename)"
   ]
  },
  {
   "cell_type": "code",
   "execution_count": null,
   "metadata": {},
   "outputs": [],
   "source": [
    "len(km1813_df)"
   ]
  },
  {
   "cell_type": "code",
   "execution_count": null,
   "metadata": {},
   "outputs": [],
   "source": [
    "km1813_df.to_json(data_dir + filename.split('.')[0] + '.json', orient=\"records\", lines=True)"
   ]
  },
  {
   "cell_type": "markdown",
   "metadata": {},
   "source": [
    "## RR1712"
   ]
  },
  {
   "cell_type": "code",
   "execution_count": null,
   "metadata": {},
   "outputs": [],
   "source": [
    "data_dir = '/home/jovyan/github/ooicloud/axial-drilling/maps/data/jason/'\n",
    "filename = 'rr1712.txt'"
   ]
  },
  {
   "cell_type": "code",
   "execution_count": null,
   "metadata": {},
   "outputs": [],
   "source": [
    "rr1712_df = read_jason(data_dir + filename)"
   ]
  },
  {
   "cell_type": "code",
   "execution_count": null,
   "metadata": {},
   "outputs": [],
   "source": [
    "len(rr1712_df)"
   ]
  },
  {
   "cell_type": "code",
   "execution_count": null,
   "metadata": {},
   "outputs": [],
   "source": [
    "rr1712_df.to_json(data_dir + filename.split('.')[0] + '.json', orient=\"records\", lines=True)"
   ]
  },
  {
   "cell_type": "markdown",
   "metadata": {},
   "source": [
    "## RR1713"
   ]
  },
  {
   "cell_type": "code",
   "execution_count": null,
   "metadata": {},
   "outputs": [],
   "source": [
    "data_dir = '/home/jovyan/github/ooicloud/axial-drilling/maps/data/jason/'\n",
    "filename = 'rr1713.txt'"
   ]
  },
  {
   "cell_type": "code",
   "execution_count": null,
   "metadata": {},
   "outputs": [],
   "source": [
    "rr1713_df = read_jason(data_dir + filename)"
   ]
  },
  {
   "cell_type": "code",
   "execution_count": null,
   "metadata": {},
   "outputs": [],
   "source": [
    "len(rr1713_df)"
   ]
  },
  {
   "cell_type": "code",
   "execution_count": null,
   "metadata": {},
   "outputs": [],
   "source": [
    "rr1713_df.to_json(data_dir + filename.split('.')[0] + '.json', orient=\"records\", lines=True)"
   ]
  },
  {
   "cell_type": "markdown",
   "metadata": {},
   "source": [
    "## SKQ201610S"
   ]
  },
  {
   "cell_type": "code",
   "execution_count": null,
   "metadata": {},
   "outputs": [],
   "source": [
    "data_dir = '/home/jovyan/github/ooicloud/axial-drilling/maps/data/jason/'\n",
    "filename = 'skq201610s.txt'"
   ]
  },
  {
   "cell_type": "code",
   "execution_count": null,
   "metadata": {},
   "outputs": [],
   "source": [
    "skq201610s_df = read_jason(data_dir + filename)"
   ]
  },
  {
   "cell_type": "code",
   "execution_count": null,
   "metadata": {},
   "outputs": [],
   "source": [
    "len(skq201610s_df)"
   ]
  },
  {
   "cell_type": "code",
   "execution_count": null,
   "metadata": {},
   "outputs": [],
   "source": [
    "skq201610s_df.to_json(data_dir + filename.split('.')[0] + '.json', orient=\"records\", lines=True)"
   ]
  },
  {
   "cell_type": "markdown",
   "metadata": {},
   "source": [
    "## TN327"
   ]
  },
  {
   "cell_type": "code",
   "execution_count": null,
   "metadata": {},
   "outputs": [],
   "source": [
    "data_dir = '/home/jovyan/github/ooicloud/axial-drilling/maps/data/jason/'\n",
    "filename = 'tn327.txt'"
   ]
  },
  {
   "cell_type": "code",
   "execution_count": null,
   "metadata": {},
   "outputs": [],
   "source": [
    "tn327_df = read_jason(data_dir + filename)"
   ]
  },
  {
   "cell_type": "code",
   "execution_count": null,
   "metadata": {},
   "outputs": [],
   "source": [
    "len(tn327_df)"
   ]
  },
  {
   "cell_type": "code",
   "execution_count": null,
   "metadata": {},
   "outputs": [],
   "source": [
    "tn327_df.to_json(data_dir + filename.split('.')[0] + '.json', orient=\"records\", lines=True)"
   ]
  },
  {
   "cell_type": "markdown",
   "metadata": {},
   "source": [
    "## RB1403"
   ]
  },
  {
   "cell_type": "code",
   "execution_count": null,
   "metadata": {},
   "outputs": [],
   "source": [
    "data_dir = '/home/jovyan/github/ooicloud/axial-drilling/maps/data/jason/'\n",
    "filename = 'rb1403.txt'"
   ]
  },
  {
   "cell_type": "code",
   "execution_count": null,
   "metadata": {},
   "outputs": [],
   "source": [
    "rb1403_df = read_jason(data_dir + filename)"
   ]
  },
  {
   "cell_type": "code",
   "execution_count": null,
   "metadata": {},
   "outputs": [],
   "source": [
    "len(rb1403_df)"
   ]
  },
  {
   "cell_type": "code",
   "execution_count": null,
   "metadata": {},
   "outputs": [],
   "source": [
    "rb1403_df.to_json(data_dir + filename.split('.')[0] + '.json', orient=\"records\", lines=True)"
   ]
  },
  {
   "cell_type": "markdown",
   "metadata": {},
   "source": [
    "## TN300"
   ]
  },
  {
   "cell_type": "code",
   "execution_count": null,
   "metadata": {},
   "outputs": [],
   "source": [
    "data_dir = '/home/jovyan/github/ooicloud/axial-drilling/maps/data/jason/'\n",
    "filename = 'tn300.txt'"
   ]
  },
  {
   "cell_type": "code",
   "execution_count": null,
   "metadata": {},
   "outputs": [],
   "source": [
    "tn300_df = read_jason(data_dir + filename)"
   ]
  },
  {
   "cell_type": "code",
   "execution_count": null,
   "metadata": {},
   "outputs": [],
   "source": [
    "len(tn300_df)"
   ]
  },
  {
   "cell_type": "code",
   "execution_count": null,
   "metadata": {},
   "outputs": [],
   "source": [
    "tn300_df.to_json(data_dir + filename.split('.')[0] + '.json', orient=\"records\", lines=True)"
   ]
  }
 ],
 "metadata": {
  "kernelspec": {
   "display_name": "Python 3",
   "language": "python",
   "name": "python3"
  },
  "language_info": {
   "codemirror_mode": {
    "name": "ipython",
    "version": 3
   },
   "file_extension": ".py",
   "mimetype": "text/x-python",
   "name": "python",
   "nbconvert_exporter": "python",
   "pygments_lexer": "ipython3",
   "version": "3.7.6"
  }
 },
 "nbformat": 4,
 "nbformat_minor": 4
}
